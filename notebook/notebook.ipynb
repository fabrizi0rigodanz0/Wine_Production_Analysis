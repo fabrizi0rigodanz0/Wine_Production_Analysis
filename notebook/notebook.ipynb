{
 "cells": [
  {
   "cell_type": "markdown",
   "metadata": {},
   "source": [
    "# Welcome to project Dionysus!"
   ]
  },
  {
   "cell_type": "markdown",
   "metadata": {},
   "source": [
    "You were given the challenge of building code that can aggreagte and analyse wine production from many producers.  \n",
    "Since you want to learn more about wine and automating processes, you accept.\n",
    "\n",
    "You are given three datasets, [Almeirim.csv](Almeirim.csv), [Benavente.csv](Benavente.csv), and [Cartaxo.csv](Cartaxo.csv)\n",
    "representing monthly wine bottling output from three small to medium producers.\n",
    "\n",
    "The data represents historical **monthly** output in thousands of litters, but rough estimates for output.\n",
    "\n",
    "**All datasets comprise the same time interval!**\n",
    "\n",
    "These three datasets represent a subset of the **thousands** of datasets you will have to analyse in the future project. **HOWEVER**, these 3 datasets represent the 3 unique configurations for all future dataset analysis.\n",
    "\n",
    "If your analysis works for these 3, it will work for all future datasets.\n",
    "\n",
    "To better prepare for future analysis you decide to develop some code to speed things up."
   ]
  },
  {
   "cell_type": "markdown",
   "metadata": {},
   "source": [
    "## The Analysis\n",
    "\n",
    "### Exploration\n",
    "1. What is the combination of directives and characters that allows you to read the Almeirim.csv item that has temporal information?\n",
    "1. And for Benavente.csv?\n",
    "2. And for Cartaxo.csv?"
   ]
  },
  {
   "cell_type": "code",
   "execution_count": 2,
   "metadata": {},
   "outputs": [],
   "source": [
    "import pandas as pd\n",
    "import numpy as np\n",
    "import matplotlib.pyplot as plt\n",
    "import seaborn as sns\n",
    "import os \n",
    "from statsmodels.tsa.statespace.sarimax import SARIMAX\n",
    "import glob"
   ]
  },
  {
   "cell_type": "code",
   "execution_count": 7,
   "metadata": {},
   "outputs": [
    {
     "data": {
      "text/html": [
       "<div>\n",
       "<style scoped>\n",
       "    .dataframe tbody tr th:only-of-type {\n",
       "        vertical-align: middle;\n",
       "    }\n",
       "\n",
       "    .dataframe tbody tr th {\n",
       "        vertical-align: top;\n",
       "    }\n",
       "\n",
       "    .dataframe thead th {\n",
       "        text-align: right;\n",
       "    }\n",
       "</style>\n",
       "<table border=\"1\" class=\"dataframe\">\n",
       "  <thead>\n",
       "    <tr style=\"text-align: right;\">\n",
       "      <th></th>\n",
       "      <th>date</th>\n",
       "      <th>output</th>\n",
       "    </tr>\n",
       "  </thead>\n",
       "  <tbody>\n",
       "    <tr>\n",
       "      <th>0</th>\n",
       "      <td>85-01</td>\n",
       "      <td>72.5052</td>\n",
       "    </tr>\n",
       "    <tr>\n",
       "      <th>1</th>\n",
       "      <td>85-02</td>\n",
       "      <td>70.6720</td>\n",
       "    </tr>\n",
       "    <tr>\n",
       "      <th>2</th>\n",
       "      <td>85-03</td>\n",
       "      <td>62.4502</td>\n",
       "    </tr>\n",
       "    <tr>\n",
       "      <th>3</th>\n",
       "      <td>85-04</td>\n",
       "      <td>57.4714</td>\n",
       "    </tr>\n",
       "    <tr>\n",
       "      <th>4</th>\n",
       "      <td>85-05</td>\n",
       "      <td>55.3151</td>\n",
       "    </tr>\n",
       "  </tbody>\n",
       "</table>\n",
       "</div>"
      ],
      "text/plain": [
       "    date   output\n",
       "0  85-01  72.5052\n",
       "1  85-02  70.6720\n",
       "2  85-03  62.4502\n",
       "3  85-04  57.4714\n",
       "4  85-05  55.3151"
      ]
     },
     "execution_count": 7,
     "metadata": {},
     "output_type": "execute_result"
    }
   ],
   "source": [
    "datafileName1 = os.path.join('..','data','Almeirim.csv')\n",
    "df_a = pd.read_csv(datafileName1)\n",
    "df_a.head()"
   ]
  },
  {
   "cell_type": "code",
   "execution_count": 8,
   "metadata": {},
   "outputs": [
    {
     "data": {
      "text/html": [
       "<div>\n",
       "<style scoped>\n",
       "    .dataframe tbody tr th:only-of-type {\n",
       "        vertical-align: middle;\n",
       "    }\n",
       "\n",
       "    .dataframe tbody tr th {\n",
       "        vertical-align: top;\n",
       "    }\n",
       "\n",
       "    .dataframe thead th {\n",
       "        text-align: right;\n",
       "    }\n",
       "</style>\n",
       "<table border=\"1\" class=\"dataframe\">\n",
       "  <thead>\n",
       "    <tr style=\"text-align: right;\">\n",
       "      <th></th>\n",
       "      <th>date</th>\n",
       "      <th>output</th>\n",
       "    </tr>\n",
       "  </thead>\n",
       "  <tbody>\n",
       "    <tr>\n",
       "      <th>0</th>\n",
       "      <td>Jan,1985</td>\n",
       "      <td>99.178372</td>\n",
       "    </tr>\n",
       "    <tr>\n",
       "      <th>1</th>\n",
       "      <td>Feb,1985</td>\n",
       "      <td>96.736512</td>\n",
       "    </tr>\n",
       "    <tr>\n",
       "      <th>2</th>\n",
       "      <td>Mar,1985</td>\n",
       "      <td>85.540669</td>\n",
       "    </tr>\n",
       "    <tr>\n",
       "      <th>3</th>\n",
       "      <td>Apr,1985</td>\n",
       "      <td>78.774726</td>\n",
       "    </tr>\n",
       "    <tr>\n",
       "      <th>4</th>\n",
       "      <td>May,1985</td>\n",
       "      <td>75.870978</td>\n",
       "    </tr>\n",
       "  </tbody>\n",
       "</table>\n",
       "</div>"
      ],
      "text/plain": [
       "       date     output\n",
       "0  Jan,1985  99.178372\n",
       "1  Feb,1985  96.736512\n",
       "2  Mar,1985  85.540669\n",
       "3  Apr,1985  78.774726\n",
       "4  May,1985  75.870978"
      ]
     },
     "execution_count": 8,
     "metadata": {},
     "output_type": "execute_result"
    }
   ],
   "source": [
    "datafileName2 = os.path.join('..','data','Benavente.csv')\n",
    "df_b = pd.read_csv(datafileName2)\n",
    "df_b.head()"
   ]
  },
  {
   "cell_type": "code",
   "execution_count": 9,
   "metadata": {},
   "outputs": [
    {
     "data": {
      "text/html": [
       "<div>\n",
       "<style scoped>\n",
       "    .dataframe tbody tr th:only-of-type {\n",
       "        vertical-align: middle;\n",
       "    }\n",
       "\n",
       "    .dataframe tbody tr th {\n",
       "        vertical-align: top;\n",
       "    }\n",
       "\n",
       "    .dataframe thead th {\n",
       "        text-align: right;\n",
       "    }\n",
       "</style>\n",
       "<table border=\"1\" class=\"dataframe\">\n",
       "  <thead>\n",
       "    <tr style=\"text-align: right;\">\n",
       "      <th></th>\n",
       "      <th>date</th>\n",
       "      <th>output</th>\n",
       "    </tr>\n",
       "  </thead>\n",
       "  <tbody>\n",
       "    <tr>\n",
       "      <th>0</th>\n",
       "      <td>85-01</td>\n",
       "      <td>60.421000</td>\n",
       "    </tr>\n",
       "    <tr>\n",
       "      <th>1</th>\n",
       "      <td>85-02</td>\n",
       "      <td>59.042242</td>\n",
       "    </tr>\n",
       "    <tr>\n",
       "      <th>2</th>\n",
       "      <td>85-03</td>\n",
       "      <td>52.305336</td>\n",
       "    </tr>\n",
       "    <tr>\n",
       "      <th>3</th>\n",
       "      <td>85-04</td>\n",
       "      <td>48.257036</td>\n",
       "    </tr>\n",
       "    <tr>\n",
       "      <th>4</th>\n",
       "      <td>85-05</td>\n",
       "      <td>46.563892</td>\n",
       "    </tr>\n",
       "  </tbody>\n",
       "</table>\n",
       "</div>"
      ],
      "text/plain": [
       "    date     output\n",
       "0  85-01  60.421000\n",
       "1  85-02  59.042242\n",
       "2  85-03  52.305336\n",
       "3  85-04  48.257036\n",
       "4  85-05  46.563892"
      ]
     },
     "execution_count": 9,
     "metadata": {},
     "output_type": "execute_result"
    }
   ],
   "source": [
    "datafileName3 = os.path.join('..','data','Cartaxo.csv')\n",
    "df_c = pd.read_csv(datafileName3)\n",
    "df_c.head()"
   ]
  },
  {
   "cell_type": "code",
   "execution_count": 11,
   "metadata": {},
   "outputs": [],
   "source": [
    "#transforming the data in datetime\n",
    "almeirim_df = pd.read_csv(datafileName1, parse_dates=['date'], date_parser=lambda x: pd.to_datetime(x, format='%y-%m'))\n",
    "cartaxo_df = pd.read_csv(datafileName3, parse_dates=['date'], date_parser=lambda x: pd.to_datetime(x, format='%y-%m'))"
   ]
  },
  {
   "cell_type": "code",
   "execution_count": 12,
   "metadata": {},
   "outputs": [
    {
     "name": "stdout",
     "output_type": "stream",
     "text": [
      "<class 'pandas.core.frame.DataFrame'>\n",
      "RangeIndex: 396 entries, 0 to 395\n",
      "Data columns (total 2 columns):\n",
      " #   Column  Non-Null Count  Dtype         \n",
      "---  ------  --------------  -----         \n",
      " 0   date    396 non-null    datetime64[ns]\n",
      " 1   output  396 non-null    float64       \n",
      "dtypes: datetime64[ns](1), float64(1)\n",
      "memory usage: 6.3 KB\n"
     ]
    }
   ],
   "source": [
    "almeirim_df.info()"
   ]
  },
  {
   "cell_type": "code",
   "execution_count": 13,
   "metadata": {},
   "outputs": [
    {
     "name": "stdout",
     "output_type": "stream",
     "text": [
      "<class 'pandas.core.frame.DataFrame'>\n",
      "RangeIndex: 396 entries, 0 to 395\n",
      "Data columns (total 2 columns):\n",
      " #   Column  Non-Null Count  Dtype         \n",
      "---  ------  --------------  -----         \n",
      " 0   date    396 non-null    datetime64[ns]\n",
      " 1   output  396 non-null    float64       \n",
      "dtypes: datetime64[ns](1), float64(1)\n",
      "memory usage: 6.3 KB\n"
     ]
    }
   ],
   "source": [
    "cartaxo_df.info()"
   ]
  },
  {
   "cell_type": "code",
   "execution_count": 15,
   "metadata": {},
   "outputs": [],
   "source": [
    "benavente_df = pd.read_csv(datafileName2, parse_dates=['date'], date_parser=lambda x: pd.to_datetime(x, format='%b,%Y'))"
   ]
  },
  {
   "cell_type": "code",
   "execution_count": 16,
   "metadata": {},
   "outputs": [],
   "source": [
    "class Wine:\n",
    "    \"\"\"\n",
    "    A class to facilitate analysis of wine production data.\n",
    "\n",
    "    Attributes\n",
    "    ----------\n",
    "    data : pd.DataFrame\n",
    "        A dataframe containing the wine production data.\n",
    "    producer : str\n",
    "        The name of the wine producer.\n",
    "    \n",
    "    Modules\n",
    "    -------\n",
    "    __init__(self, data, producer)\n",
    "        Constructor for the Wine class.\n",
    "    \"\"\"\n",
    "    def __init__(self, data, producer):\n",
    "        \"\"\"\n",
    "        Initializes the Wine object with data and a producer name.\n",
    "        \"\"\"\n",
    "        self.data = data\n",
    "        self.producer = producer"
   ]
  },
  {
   "cell_type": "code",
   "execution_count": null,
   "metadata": {},
   "outputs": [],
   "source": []
  }
 ],
 "metadata": {
  "kernelspec": {
   "display_name": "base",
   "language": "python",
   "name": "python3"
  },
  "language_info": {
   "codemirror_mode": {
    "name": "ipython",
    "version": 3
   },
   "file_extension": ".py",
   "mimetype": "text/x-python",
   "name": "python",
   "nbconvert_exporter": "python",
   "pygments_lexer": "ipython3",
   "version": "3.11.3"
  },
  "orig_nbformat": 4
 },
 "nbformat": 4,
 "nbformat_minor": 2
}
