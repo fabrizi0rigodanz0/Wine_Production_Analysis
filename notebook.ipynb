{
 "cells": [
  {
   "cell_type": "markdown",
   "metadata": {},
   "source": [
    "# Welcome to project Dionysus!"
   ]
  },
  {
   "cell_type": "markdown",
   "metadata": {},
   "source": [
    "You were given the challenge of building code that can aggreagte and analyse wine production from many producers.  \n",
    "Since you want to learn more about wine and automating processes, you accept.\n",
    "\n",
    "You are given three datasets, [Almeirim.csv](Almeirim.csv), [Benavente.csv](Benavente.csv), and [Cartaxo.csv](Cartaxo.csv)\n",
    "representing monthly wine bottling output from three small to medium producers.\n",
    "\n",
    "The data represents historical **monthly** output in thousands of litters, but rough estimates for output.\n",
    "\n",
    "**All datasets comprise the same time interval!**\n",
    "\n",
    "These three datasets represent a subset of the **thousands** of datasets you will have to analyse in the future project. **HOWEVER**, these 3 datasets represent the 3 unique configurations for all future dataset analysis.\n",
    "\n",
    "If your analysis works for these 3, it will work for all future datasets.\n",
    "\n",
    "To better prepare for future analysis you decide to develop some code to speed things up."
   ]
  },
  {
   "cell_type": "markdown",
   "metadata": {},
   "source": [
    "## The Analysis\n",
    "\n",
    "### Exploration\n",
    "1. What is the combination of directives and characters that allows you to read the Almeirim.csv item that has temporal information?\n",
    "1. And for Benavente.csv?\n",
    "2. And for Cartaxo.csv?"
   ]
  },
  {
   "cell_type": "markdown",
   "metadata": {},
   "source": []
  }
 ],
 "metadata": {
  "language_info": {
   "name": "python"
  },
  "orig_nbformat": 4
 },
 "nbformat": 4,
 "nbformat_minor": 2
}
